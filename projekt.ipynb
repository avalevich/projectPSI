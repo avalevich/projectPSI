{
 "cells": [
  {
   "cell_type": "code",
   "execution_count": 1,
   "metadata": {},
   "outputs": [
    {
     "name": "stdout",
     "output_type": "stream",
     "text": [
      "{'classifier__max_depth': 13, 'classifier__max_features': 7, 'classifier__n_estimators': 27}\n",
      "{'classifier__algorithm': 'auto', 'classifier__leaf_size': 5, 'classifier__n_neighbors': 3, 'classifier__p': 1, 'classifier__weights': 'distance'}\n",
      "{'classifier__colsample_bytree': 0.8, 'classifier__learning_rate': 0.1, 'classifier__max_depth': 4, 'classifier__n_estimators': 200, 'classifier__subsample': 1.0}\n",
      "Model: \"sequential\"\n",
      "_________________________________________________________________\n",
      " Layer (type)                Output Shape              Param #   \n",
      "=================================================================\n",
      " dense (Dense)               (None, 150)               3300      \n",
      "                                                                 \n",
      " batch_normalization (BatchN  (None, 150)              600       \n",
      " ormalization)                                                   \n",
      "                                                                 \n",
      " dropout (Dropout)           (None, 150)               0         \n",
      "                                                                 \n",
      " dense_1 (Dense)             (None, 100)               15100     \n",
      "                                                                 \n",
      " batch_normalization_1 (Batc  (None, 100)              400       \n",
      " hNormalization)                                                 \n",
      "                                                                 \n",
      " dropout_1 (Dropout)         (None, 100)               0         \n",
      "                                                                 \n",
      " dense_2 (Dense)             (None, 30)                3030      \n",
      "                                                                 \n",
      " batch_normalization_2 (Batc  (None, 30)               120       \n",
      " hNormalization)                                                 \n",
      "                                                                 \n",
      " dropout_2 (Dropout)         (None, 30)                0         \n",
      "                                                                 \n",
      " dense_3 (Dense)             (None, 4)                 124       \n",
      "                                                                 \n",
      "=================================================================\n",
      "Total params: 22,674\n",
      "Trainable params: 22,114\n",
      "Non-trainable params: 560\n",
      "_________________________________________________________________\n",
      "Epoch 1/40\n"
     ]
    },
    {
     "name": "stderr",
     "output_type": "stream",
     "text": [
      "2023-06-12 14:48:46.040456: W tensorflow/tsl/platform/profile_utils/cpu_utils.cc:128] Failed to get CPU frequency: 0 Hz\n"
     ]
    },
    {
     "name": "stdout",
     "output_type": "stream",
     "text": [
      "39/54 [====================>.........] - ETA: 0s - loss: 1.2610 - accuracy: 0.5288 INFO:tensorflow:Assets written to: neural_best.h5py/assets\n",
      "54/54 [==============================] - 1s 14ms/step - loss: 1.1928 - accuracy: 0.5771 - val_loss: 2.7906 - val_accuracy: 0.1761\n",
      "Epoch 2/40\n",
      " 1/54 [..............................] - ETA: 0s - loss: 1.1965 - accuracy: 0.6250INFO:tensorflow:Assets written to: neural_best.h5py/assets\n",
      "54/54 [==============================] - 1s 13ms/step - loss: 0.8579 - accuracy: 0.7735 - val_loss: 0.8086 - val_accuracy: 0.7770\n",
      "Epoch 3/40\n",
      "54/54 [==============================] - 0s 1ms/step - loss: 0.6731 - accuracy: 0.8247 - val_loss: 0.8678 - val_accuracy: 0.8028\n",
      "Epoch 4/40\n",
      " 1/54 [..............................] - ETA: 0s - loss: 0.8236 - accuracy: 0.7812INFO:tensorflow:Assets written to: neural_best.h5py/assets\n",
      "54/54 [==============================] - 1s 11ms/step - loss: 0.5905 - accuracy: 0.8341 - val_loss: 0.4052 - val_accuracy: 0.8897\n",
      "Epoch 5/40\n",
      "54/54 [==============================] - 0s 1ms/step - loss: 0.4804 - accuracy: 0.8571 - val_loss: 0.4080 - val_accuracy: 0.8944\n",
      "Epoch 6/40\n",
      " 1/54 [..............................] - ETA: 0s - loss: 0.3195 - accuracy: 0.9375INFO:tensorflow:Assets written to: neural_best.h5py/assets\n",
      "54/54 [==============================] - 1s 11ms/step - loss: 0.4767 - accuracy: 0.8541 - val_loss: 0.3334 - val_accuracy: 0.9131\n",
      "Epoch 7/40\n",
      "54/54 [==============================] - 0s 1ms/step - loss: 0.3966 - accuracy: 0.8688 - val_loss: 0.3387 - val_accuracy: 0.8967\n",
      "Epoch 8/40\n",
      "54/54 [==============================] - 0s 1ms/step - loss: 0.3989 - accuracy: 0.8553 - val_loss: 0.3472 - val_accuracy: 0.8991\n",
      "Epoch 9/40\n",
      " 1/54 [..............................] - ETA: 0s - loss: 0.4094 - accuracy: 0.8750INFO:tensorflow:Assets written to: neural_best.h5py/assets\n",
      "54/54 [==============================] - 1s 13ms/step - loss: 0.3687 - accuracy: 0.8576 - val_loss: 0.2689 - val_accuracy: 0.9085\n",
      "Epoch 10/40\n",
      "54/54 [==============================] - 0s 1ms/step - loss: 0.3696 - accuracy: 0.8553 - val_loss: 0.2833 - val_accuracy: 0.9061\n",
      "Epoch 11/40\n",
      "54/54 [==============================] - 0s 1ms/step - loss: 0.3639 - accuracy: 0.8653 - val_loss: 0.2725 - val_accuracy: 0.9131\n",
      "Epoch 12/40\n",
      " 1/54 [..............................] - ETA: 0s - loss: 0.2445 - accuracy: 0.9375INFO:tensorflow:Assets written to: neural_best.h5py/assets\n",
      "54/54 [==============================] - 1s 11ms/step - loss: 0.3355 - accuracy: 0.8729 - val_loss: 0.2558 - val_accuracy: 0.9131\n",
      "Epoch 13/40\n",
      " 1/54 [..............................] - ETA: 0s - loss: 0.3149 - accuracy: 0.8438INFO:tensorflow:Assets written to: neural_best.h5py/assets\n",
      "54/54 [==============================] - 1s 13ms/step - loss: 0.3168 - accuracy: 0.8835 - val_loss: 0.2525 - val_accuracy: 0.9155\n",
      "Epoch 14/40\n",
      "39/54 [====================>.........] - ETA: 0s - loss: 0.3577 - accuracy: 0.8622INFO:tensorflow:Assets written to: neural_best.h5py/assets\n",
      "54/54 [==============================] - 1s 11ms/step - loss: 0.3428 - accuracy: 0.8641 - val_loss: 0.2478 - val_accuracy: 0.9108\n",
      "Epoch 15/40\n",
      "54/54 [==============================] - 0s 1ms/step - loss: 0.3307 - accuracy: 0.8753 - val_loss: 0.2603 - val_accuracy: 0.8967\n",
      "Epoch 16/40\n",
      "54/54 [==============================] - 0s 1ms/step - loss: 0.3393 - accuracy: 0.8653 - val_loss: 0.2903 - val_accuracy: 0.8967\n",
      "Epoch 17/40\n",
      " 1/54 [..............................] - ETA: 0s - loss: 0.1921 - accuracy: 0.9375INFO:tensorflow:Assets written to: neural_best.h5py/assets\n",
      "54/54 [==============================] - 1s 11ms/step - loss: 0.3234 - accuracy: 0.8718 - val_loss: 0.2443 - val_accuracy: 0.9202\n",
      "Epoch 18/40\n",
      "54/54 [==============================] - 0s 1ms/step - loss: 0.3077 - accuracy: 0.8747 - val_loss: 0.2484 - val_accuracy: 0.9061\n",
      "Epoch 19/40\n",
      "54/54 [==============================] - 0s 1ms/step - loss: 0.2828 - accuracy: 0.8894 - val_loss: 0.2805 - val_accuracy: 0.9014\n",
      "Epoch 20/40\n",
      "54/54 [==============================] - 0s 1ms/step - loss: 0.3016 - accuracy: 0.8829 - val_loss: 0.3097 - val_accuracy: 0.8991\n",
      "Epoch 21/40\n",
      "54/54 [==============================] - 0s 1ms/step - loss: 0.2817 - accuracy: 0.8882 - val_loss: 0.2595 - val_accuracy: 0.9108\n",
      "Epoch 22/40\n",
      "54/54 [==============================] - 0s 1ms/step - loss: 0.3045 - accuracy: 0.8759 - val_loss: 0.2915 - val_accuracy: 0.9014\n",
      "Epoch 23/40\n",
      " 1/54 [..............................] - ETA: 0s - loss: 0.2180 - accuracy: 0.9375INFO:tensorflow:Assets written to: neural_best.h5py/assets\n",
      "54/54 [==============================] - 1s 11ms/step - loss: 0.2888 - accuracy: 0.8829 - val_loss: 0.2315 - val_accuracy: 0.9225\n",
      "Epoch 24/40\n",
      "54/54 [==============================] - 0s 1ms/step - loss: 0.2901 - accuracy: 0.8835 - val_loss: 0.3150 - val_accuracy: 0.8967\n",
      "Epoch 25/40\n",
      "54/54 [==============================] - 0s 1ms/step - loss: 0.2940 - accuracy: 0.8765 - val_loss: 0.2732 - val_accuracy: 0.8873\n",
      "Epoch 26/40\n",
      "54/54 [==============================] - ETA: 0s - loss: 0.2908 - accuracy: 0.8788INFO:tensorflow:Assets written to: neural_best.h5py/assets\n",
      "54/54 [==============================] - 1s 13ms/step - loss: 0.2908 - accuracy: 0.8788 - val_loss: 0.2295 - val_accuracy: 0.9108\n",
      "Epoch 27/40\n",
      "54/54 [==============================] - 0s 2ms/step - loss: 0.2651 - accuracy: 0.8965 - val_loss: 0.2464 - val_accuracy: 0.9061\n",
      "Epoch 28/40\n",
      "54/54 [==============================] - 0s 1ms/step - loss: 0.2741 - accuracy: 0.8888 - val_loss: 0.2351 - val_accuracy: 0.9155\n",
      "Epoch 29/40\n",
      "54/54 [==============================] - 0s 1ms/step - loss: 0.2769 - accuracy: 0.8900 - val_loss: 0.2456 - val_accuracy: 0.9202\n",
      "Epoch 30/40\n",
      "54/54 [==============================] - 0s 1ms/step - loss: 0.2863 - accuracy: 0.8865 - val_loss: 0.2616 - val_accuracy: 0.9061\n",
      "Epoch 31/40\n",
      "54/54 [==============================] - 0s 1ms/step - loss: 0.2755 - accuracy: 0.8876 - val_loss: 0.2928 - val_accuracy: 0.8967\n",
      "Epoch 32/40\n",
      "54/54 [==============================] - 0s 1ms/step - loss: 0.2764 - accuracy: 0.8906 - val_loss: 0.2700 - val_accuracy: 0.8991\n",
      "Epoch 33/40\n",
      "54/54 [==============================] - 0s 1ms/step - loss: 0.2623 - accuracy: 0.8953 - val_loss: 0.2729 - val_accuracy: 0.9038\n",
      "Epoch 34/40\n",
      "54/54 [==============================] - 0s 1ms/step - loss: 0.2649 - accuracy: 0.8988 - val_loss: 0.2646 - val_accuracy: 0.9178\n",
      "Epoch 35/40\n",
      "54/54 [==============================] - 0s 1ms/step - loss: 0.2699 - accuracy: 0.8941 - val_loss: 0.2545 - val_accuracy: 0.9202\n",
      "Epoch 36/40\n",
      "54/54 [==============================] - 0s 1ms/step - loss: 0.2654 - accuracy: 0.8935 - val_loss: 0.3211 - val_accuracy: 0.8709\n",
      "Epoch 37/40\n",
      "54/54 [==============================] - 0s 1ms/step - loss: 0.2653 - accuracy: 0.8971 - val_loss: 0.3055 - val_accuracy: 0.8709\n",
      "Epoch 38/40\n",
      "54/54 [==============================] - 0s 1ms/step - loss: 0.2653 - accuracy: 0.8900 - val_loss: 0.2338 - val_accuracy: 0.9061\n",
      "Epoch 39/40\n",
      " 1/54 [..............................] - ETA: 0s - loss: 0.2810 - accuracy: 0.9062INFO:tensorflow:Assets written to: neural_best.h5py/assets\n",
      "54/54 [==============================] - 1s 11ms/step - loss: 0.2527 - accuracy: 0.9024 - val_loss: 0.2090 - val_accuracy: 0.9155\n",
      "Epoch 40/40\n",
      "54/54 [==============================] - 0s 1ms/step - loss: 0.2610 - accuracy: 0.8912 - val_loss: 0.2427 - val_accuracy: 0.9014\n",
      "14/14 [==============================] - 0s 461us/step - loss: 0.2427 - accuracy: 0.9014\n",
      "Model: \"sequential_1\"\n",
      "_________________________________________________________________\n",
      " Layer (type)                Output Shape              Param #   \n",
      "=================================================================\n",
      " conv1d (Conv1D)             (None, 19, 64)            256       \n",
      "                                                                 \n",
      " conv1d_1 (Conv1D)           (None, 17, 96)            18528     \n",
      "                                                                 \n",
      " max_pooling1d (MaxPooling1D  (None, 8, 96)            0         \n",
      " )                                                               \n",
      "                                                                 \n",
      " dropout_3 (Dropout)         (None, 8, 96)             0         \n",
      "                                                                 \n",
      " conv1d_2 (Conv1D)           (None, 6, 128)            36992     \n",
      "                                                                 \n",
      " conv1d_3 (Conv1D)           (None, 4, 128)            49280     \n",
      "                                                                 \n",
      " global_average_pooling1d (G  (None, 128)              0         \n",
      " lobalAveragePooling1D)                                          \n",
      "                                                                 \n",
      " dropout_4 (Dropout)         (None, 128)               0         \n",
      "                                                                 \n",
      " dense_4 (Dense)             (None, 256)               33024     \n",
      "                                                                 \n",
      " dropout_5 (Dropout)         (None, 256)               0         \n",
      "                                                                 \n",
      " dense_5 (Dense)             (None, 4)                 1028      \n",
      "                                                                 \n",
      "=================================================================\n",
      "Total params: 139,108\n",
      "Trainable params: 139,108\n",
      "Non-trainable params: 0\n",
      "_________________________________________________________________\n",
      "Epoch 1/40\n",
      "52/54 [===========================>..] - ETA: 0s - loss: 0.8902 - accuracy: 0.7290"
     ]
    },
    {
     "name": "stderr",
     "output_type": "stream",
     "text": [
      "WARNING:absl:Found untraced functions such as _jit_compiled_convolution_op, _jit_compiled_convolution_op, _jit_compiled_convolution_op, _jit_compiled_convolution_op while saving (showing 4 of 4). These functions will not be directly callable after loading.\n"
     ]
    },
    {
     "name": "stdout",
     "output_type": "stream",
     "text": [
      "INFO:tensorflow:Assets written to: convolutional_best.h5py/assets\n"
     ]
    },
    {
     "name": "stderr",
     "output_type": "stream",
     "text": [
      "INFO:tensorflow:Assets written to: convolutional_best.h5py/assets\n"
     ]
    },
    {
     "name": "stdout",
     "output_type": "stream",
     "text": [
      "54/54 [==============================] - 1s 15ms/step - loss: 0.8842 - accuracy: 0.7318 - val_loss: 0.6096 - val_accuracy: 0.7793\n",
      "Epoch 2/40\n",
      "49/54 [==========================>...] - ETA: 0s - loss: 0.6022 - accuracy: 0.7749"
     ]
    },
    {
     "name": "stderr",
     "output_type": "stream",
     "text": [
      "WARNING:absl:Found untraced functions such as _jit_compiled_convolution_op, _jit_compiled_convolution_op, _jit_compiled_convolution_op, _jit_compiled_convolution_op while saving (showing 4 of 4). These functions will not be directly callable after loading.\n"
     ]
    },
    {
     "name": "stdout",
     "output_type": "stream",
     "text": [
      "INFO:tensorflow:Assets written to: convolutional_best.h5py/assets\n"
     ]
    },
    {
     "name": "stderr",
     "output_type": "stream",
     "text": [
      "INFO:tensorflow:Assets written to: convolutional_best.h5py/assets\n"
     ]
    },
    {
     "name": "stdout",
     "output_type": "stream",
     "text": [
      "54/54 [==============================] - 1s 12ms/step - loss: 0.5945 - accuracy: 0.7776 - val_loss: 0.4852 - val_accuracy: 0.8005\n",
      "Epoch 3/40\n",
      "54/54 [==============================] - 0s 5ms/step - loss: 0.5700 - accuracy: 0.7965 - val_loss: 0.6320 - val_accuracy: 0.7793\n",
      "Epoch 4/40\n",
      "47/54 [=========================>....] - ETA: 0s - loss: 0.5534 - accuracy: 0.7952"
     ]
    },
    {
     "name": "stderr",
     "output_type": "stream",
     "text": [
      "WARNING:absl:Found untraced functions such as _jit_compiled_convolution_op, _jit_compiled_convolution_op, _jit_compiled_convolution_op, _jit_compiled_convolution_op while saving (showing 4 of 4). These functions will not be directly callable after loading.\n"
     ]
    },
    {
     "name": "stdout",
     "output_type": "stream",
     "text": [
      "INFO:tensorflow:Assets written to: convolutional_best.h5py/assets\n"
     ]
    },
    {
     "name": "stderr",
     "output_type": "stream",
     "text": [
      "INFO:tensorflow:Assets written to: convolutional_best.h5py/assets\n"
     ]
    },
    {
     "name": "stdout",
     "output_type": "stream",
     "text": [
      "54/54 [==============================] - 1s 13ms/step - loss: 0.5500 - accuracy: 0.7947 - val_loss: 0.4317 - val_accuracy: 0.8286\n",
      "Epoch 5/40\n",
      "49/54 [==========================>...] - ETA: 0s - loss: 0.5008 - accuracy: 0.7985"
     ]
    },
    {
     "name": "stderr",
     "output_type": "stream",
     "text": [
      "WARNING:absl:Found untraced functions such as _jit_compiled_convolution_op, _jit_compiled_convolution_op, _jit_compiled_convolution_op, _jit_compiled_convolution_op while saving (showing 4 of 4). These functions will not be directly callable after loading.\n"
     ]
    },
    {
     "name": "stdout",
     "output_type": "stream",
     "text": [
      "INFO:tensorflow:Assets written to: convolutional_best.h5py/assets\n"
     ]
    },
    {
     "name": "stderr",
     "output_type": "stream",
     "text": [
      "INFO:tensorflow:Assets written to: convolutional_best.h5py/assets\n"
     ]
    },
    {
     "name": "stdout",
     "output_type": "stream",
     "text": [
      "54/54 [==============================] - 1s 13ms/step - loss: 0.4983 - accuracy: 0.8029 - val_loss: 0.4170 - val_accuracy: 0.8521\n",
      "Epoch 6/40\n",
      "54/54 [==============================] - 0s 6ms/step - loss: 0.4949 - accuracy: 0.8106 - val_loss: 0.4970 - val_accuracy: 0.8052\n",
      "Epoch 7/40\n",
      "45/54 [========================>.....] - ETA: 0s - loss: 0.4739 - accuracy: 0.8167"
     ]
    },
    {
     "name": "stderr",
     "output_type": "stream",
     "text": [
      "WARNING:absl:Found untraced functions such as _jit_compiled_convolution_op, _jit_compiled_convolution_op, _jit_compiled_convolution_op, _jit_compiled_convolution_op while saving (showing 4 of 4). These functions will not be directly callable after loading.\n"
     ]
    },
    {
     "name": "stdout",
     "output_type": "stream",
     "text": [
      "INFO:tensorflow:Assets written to: convolutional_best.h5py/assets\n"
     ]
    },
    {
     "name": "stderr",
     "output_type": "stream",
     "text": [
      "INFO:tensorflow:Assets written to: convolutional_best.h5py/assets\n"
     ]
    },
    {
     "name": "stdout",
     "output_type": "stream",
     "text": [
      "54/54 [==============================] - 1s 15ms/step - loss: 0.4810 - accuracy: 0.8135 - val_loss: 0.4060 - val_accuracy: 0.8263\n",
      "Epoch 8/40\n",
      "49/54 [==========================>...] - ETA: 0s - loss: 0.4630 - accuracy: 0.8221"
     ]
    },
    {
     "name": "stderr",
     "output_type": "stream",
     "text": [
      "WARNING:absl:Found untraced functions such as _jit_compiled_convolution_op, _jit_compiled_convolution_op, _jit_compiled_convolution_op, _jit_compiled_convolution_op while saving (showing 4 of 4). These functions will not be directly callable after loading.\n"
     ]
    },
    {
     "name": "stdout",
     "output_type": "stream",
     "text": [
      "INFO:tensorflow:Assets written to: convolutional_best.h5py/assets\n"
     ]
    },
    {
     "name": "stderr",
     "output_type": "stream",
     "text": [
      "INFO:tensorflow:Assets written to: convolutional_best.h5py/assets\n"
     ]
    },
    {
     "name": "stdout",
     "output_type": "stream",
     "text": [
      "54/54 [==============================] - 1s 13ms/step - loss: 0.4679 - accuracy: 0.8224 - val_loss: 0.3585 - val_accuracy: 0.8944\n",
      "Epoch 9/40\n",
      "54/54 [==============================] - 0s 5ms/step - loss: 0.4570 - accuracy: 0.8212 - val_loss: 0.4745 - val_accuracy: 0.7817\n",
      "Epoch 10/40\n",
      "54/54 [==============================] - 0s 5ms/step - loss: 0.4608 - accuracy: 0.8218 - val_loss: 0.4016 - val_accuracy: 0.8404\n",
      "Epoch 11/40\n",
      "54/54 [==============================] - ETA: 0s - loss: 0.4581 - accuracy: 0.8071"
     ]
    },
    {
     "name": "stderr",
     "output_type": "stream",
     "text": [
      "WARNING:absl:Found untraced functions such as _jit_compiled_convolution_op, _jit_compiled_convolution_op, _jit_compiled_convolution_op, _jit_compiled_convolution_op while saving (showing 4 of 4). These functions will not be directly callable after loading.\n"
     ]
    },
    {
     "name": "stdout",
     "output_type": "stream",
     "text": [
      "INFO:tensorflow:Assets written to: convolutional_best.h5py/assets\n"
     ]
    },
    {
     "name": "stderr",
     "output_type": "stream",
     "text": [
      "INFO:tensorflow:Assets written to: convolutional_best.h5py/assets\n"
     ]
    },
    {
     "name": "stdout",
     "output_type": "stream",
     "text": [
      "54/54 [==============================] - 1s 13ms/step - loss: 0.4581 - accuracy: 0.8071 - val_loss: 0.3519 - val_accuracy: 0.8803\n",
      "Epoch 12/40\n",
      "47/54 [=========================>....] - ETA: 0s - loss: 0.4449 - accuracy: 0.8298"
     ]
    },
    {
     "name": "stderr",
     "output_type": "stream",
     "text": [
      "WARNING:absl:Found untraced functions such as _jit_compiled_convolution_op, _jit_compiled_convolution_op, _jit_compiled_convolution_op, _jit_compiled_convolution_op while saving (showing 4 of 4). These functions will not be directly callable after loading.\n"
     ]
    },
    {
     "name": "stdout",
     "output_type": "stream",
     "text": [
      "INFO:tensorflow:Assets written to: convolutional_best.h5py/assets\n"
     ]
    },
    {
     "name": "stderr",
     "output_type": "stream",
     "text": [
      "INFO:tensorflow:Assets written to: convolutional_best.h5py/assets\n"
     ]
    },
    {
     "name": "stdout",
     "output_type": "stream",
     "text": [
      "54/54 [==============================] - 1s 13ms/step - loss: 0.4420 - accuracy: 0.8276 - val_loss: 0.3109 - val_accuracy: 0.9014\n",
      "Epoch 13/40\n",
      "54/54 [==============================] - 0s 5ms/step - loss: 0.4226 - accuracy: 0.8376 - val_loss: 0.3114 - val_accuracy: 0.8826\n",
      "Epoch 14/40\n",
      "54/54 [==============================] - 0s 5ms/step - loss: 0.4083 - accuracy: 0.8371 - val_loss: 0.3265 - val_accuracy: 0.8944\n",
      "Epoch 15/40\n",
      "54/54 [==============================] - 0s 5ms/step - loss: 0.4154 - accuracy: 0.8294 - val_loss: 0.3408 - val_accuracy: 0.8732\n",
      "Epoch 16/40\n",
      "54/54 [==============================] - 0s 5ms/step - loss: 0.4114 - accuracy: 0.8341 - val_loss: 0.3136 - val_accuracy: 0.8920\n",
      "Epoch 17/40\n",
      "54/54 [==============================] - 0s 5ms/step - loss: 0.4153 - accuracy: 0.8341 - val_loss: 0.3468 - val_accuracy: 0.8568\n",
      "Epoch 18/40\n",
      "54/54 [==============================] - 0s 5ms/step - loss: 0.4150 - accuracy: 0.8306 - val_loss: 0.3116 - val_accuracy: 0.9038\n",
      "Epoch 19/40\n",
      "45/54 [========================>.....] - ETA: 0s - loss: 0.4064 - accuracy: 0.8347"
     ]
    },
    {
     "name": "stderr",
     "output_type": "stream",
     "text": [
      "WARNING:absl:Found untraced functions such as _jit_compiled_convolution_op, _jit_compiled_convolution_op, _jit_compiled_convolution_op, _jit_compiled_convolution_op while saving (showing 4 of 4). These functions will not be directly callable after loading.\n"
     ]
    },
    {
     "name": "stdout",
     "output_type": "stream",
     "text": [
      "INFO:tensorflow:Assets written to: convolutional_best.h5py/assets\n"
     ]
    },
    {
     "name": "stderr",
     "output_type": "stream",
     "text": [
      "INFO:tensorflow:Assets written to: convolutional_best.h5py/assets\n"
     ]
    },
    {
     "name": "stdout",
     "output_type": "stream",
     "text": [
      "54/54 [==============================] - 1s 15ms/step - loss: 0.4123 - accuracy: 0.8353 - val_loss: 0.2942 - val_accuracy: 0.9061\n",
      "Epoch 20/40\n",
      "54/54 [==============================] - 0s 5ms/step - loss: 0.3896 - accuracy: 0.8435 - val_loss: 0.3212 - val_accuracy: 0.8803\n",
      "Epoch 21/40\n",
      "54/54 [==============================] - 0s 5ms/step - loss: 0.3961 - accuracy: 0.8441 - val_loss: 0.4163 - val_accuracy: 0.8357\n",
      "Epoch 22/40\n",
      "54/54 [==============================] - 0s 5ms/step - loss: 0.3912 - accuracy: 0.8394 - val_loss: 0.3450 - val_accuracy: 0.8756\n",
      "Epoch 23/40\n",
      "54/54 [==============================] - 0s 5ms/step - loss: 0.3853 - accuracy: 0.8400 - val_loss: 0.3434 - val_accuracy: 0.8779\n",
      "Epoch 24/40\n",
      "54/54 [==============================] - 0s 5ms/step - loss: 0.4053 - accuracy: 0.8494 - val_loss: 0.3910 - val_accuracy: 0.8662\n",
      "Epoch 25/40\n",
      "45/54 [========================>.....] - ETA: 0s - loss: 0.3997 - accuracy: 0.8389"
     ]
    },
    {
     "name": "stderr",
     "output_type": "stream",
     "text": [
      "WARNING:absl:Found untraced functions such as _jit_compiled_convolution_op, _jit_compiled_convolution_op, _jit_compiled_convolution_op, _jit_compiled_convolution_op while saving (showing 4 of 4). These functions will not be directly callable after loading.\n"
     ]
    },
    {
     "name": "stdout",
     "output_type": "stream",
     "text": [
      "INFO:tensorflow:Assets written to: convolutional_best.h5py/assets\n"
     ]
    },
    {
     "name": "stderr",
     "output_type": "stream",
     "text": [
      "INFO:tensorflow:Assets written to: convolutional_best.h5py/assets\n"
     ]
    },
    {
     "name": "stdout",
     "output_type": "stream",
     "text": [
      "54/54 [==============================] - 1s 13ms/step - loss: 0.3950 - accuracy: 0.8412 - val_loss: 0.2928 - val_accuracy: 0.9014\n",
      "Epoch 26/40\n",
      "44/54 [=======================>......] - ETA: 0s - loss: 0.3523 - accuracy: 0.8558"
     ]
    },
    {
     "name": "stderr",
     "output_type": "stream",
     "text": [
      "WARNING:absl:Found untraced functions such as _jit_compiled_convolution_op, _jit_compiled_convolution_op, _jit_compiled_convolution_op, _jit_compiled_convolution_op while saving (showing 4 of 4). These functions will not be directly callable after loading.\n"
     ]
    },
    {
     "name": "stdout",
     "output_type": "stream",
     "text": [
      "INFO:tensorflow:Assets written to: convolutional_best.h5py/assets\n"
     ]
    },
    {
     "name": "stderr",
     "output_type": "stream",
     "text": [
      "INFO:tensorflow:Assets written to: convolutional_best.h5py/assets\n"
     ]
    },
    {
     "name": "stdout",
     "output_type": "stream",
     "text": [
      "54/54 [==============================] - 1s 13ms/step - loss: 0.3654 - accuracy: 0.8535 - val_loss: 0.2925 - val_accuracy: 0.8967\n",
      "Epoch 27/40\n",
      "54/54 [==============================] - 0s 5ms/step - loss: 0.3816 - accuracy: 0.8512 - val_loss: 0.2927 - val_accuracy: 0.8944\n",
      "Epoch 28/40\n",
      "54/54 [==============================] - 0s 5ms/step - loss: 0.3819 - accuracy: 0.8535 - val_loss: 0.3242 - val_accuracy: 0.8662\n",
      "Epoch 29/40\n",
      "47/54 [=========================>....] - ETA: 0s - loss: 0.3805 - accuracy: 0.8570"
     ]
    },
    {
     "name": "stderr",
     "output_type": "stream",
     "text": [
      "WARNING:absl:Found untraced functions such as _jit_compiled_convolution_op, _jit_compiled_convolution_op, _jit_compiled_convolution_op, _jit_compiled_convolution_op while saving (showing 4 of 4). These functions will not be directly callable after loading.\n"
     ]
    },
    {
     "name": "stdout",
     "output_type": "stream",
     "text": [
      "INFO:tensorflow:Assets written to: convolutional_best.h5py/assets\n"
     ]
    },
    {
     "name": "stderr",
     "output_type": "stream",
     "text": [
      "INFO:tensorflow:Assets written to: convolutional_best.h5py/assets\n"
     ]
    },
    {
     "name": "stdout",
     "output_type": "stream",
     "text": [
      "54/54 [==============================] - 1s 15ms/step - loss: 0.3821 - accuracy: 0.8571 - val_loss: 0.2853 - val_accuracy: 0.8967\n",
      "Epoch 30/40\n",
      "54/54 [==============================] - 0s 5ms/step - loss: 0.3579 - accuracy: 0.8600 - val_loss: 0.3211 - val_accuracy: 0.8662\n",
      "Epoch 31/40\n",
      "54/54 [==============================] - 0s 5ms/step - loss: 0.3744 - accuracy: 0.8582 - val_loss: 0.2982 - val_accuracy: 0.8826\n",
      "Epoch 32/40\n",
      "54/54 [==============================] - 0s 5ms/step - loss: 0.3500 - accuracy: 0.8571 - val_loss: 0.3232 - val_accuracy: 0.8615\n",
      "Epoch 33/40\n",
      "54/54 [==============================] - 0s 5ms/step - loss: 0.3757 - accuracy: 0.8524 - val_loss: 0.3047 - val_accuracy: 0.8779\n",
      "Epoch 34/40\n",
      "54/54 [==============================] - 0s 5ms/step - loss: 0.3642 - accuracy: 0.8606 - val_loss: 0.3238 - val_accuracy: 0.8920\n",
      "Epoch 35/40\n",
      "46/54 [========================>.....] - ETA: 0s - loss: 0.3520 - accuracy: 0.8512"
     ]
    },
    {
     "name": "stderr",
     "output_type": "stream",
     "text": [
      "WARNING:absl:Found untraced functions such as _jit_compiled_convolution_op, _jit_compiled_convolution_op, _jit_compiled_convolution_op, _jit_compiled_convolution_op while saving (showing 4 of 4). These functions will not be directly callable after loading.\n"
     ]
    },
    {
     "name": "stdout",
     "output_type": "stream",
     "text": [
      "INFO:tensorflow:Assets written to: convolutional_best.h5py/assets\n"
     ]
    },
    {
     "name": "stderr",
     "output_type": "stream",
     "text": [
      "INFO:tensorflow:Assets written to: convolutional_best.h5py/assets\n"
     ]
    },
    {
     "name": "stdout",
     "output_type": "stream",
     "text": [
      "54/54 [==============================] - 1s 13ms/step - loss: 0.3545 - accuracy: 0.8553 - val_loss: 0.2747 - val_accuracy: 0.9038\n",
      "Epoch 36/40\n",
      "54/54 [==============================] - 0s 5ms/step - loss: 0.3557 - accuracy: 0.8576 - val_loss: 0.6782 - val_accuracy: 0.7113\n",
      "Epoch 37/40\n",
      "54/54 [==============================] - 0s 5ms/step - loss: 0.3780 - accuracy: 0.8476 - val_loss: 0.5027 - val_accuracy: 0.7864\n",
      "Epoch 38/40\n",
      "54/54 [==============================] - 0s 5ms/step - loss: 0.3754 - accuracy: 0.8494 - val_loss: 0.3112 - val_accuracy: 0.8732\n",
      "Epoch 39/40\n",
      "54/54 [==============================] - 0s 5ms/step - loss: 0.3533 - accuracy: 0.8612 - val_loss: 0.3379 - val_accuracy: 0.8521\n",
      "Epoch 40/40\n",
      "54/54 [==============================] - 0s 5ms/step - loss: 0.3534 - accuracy: 0.8571 - val_loss: 0.3153 - val_accuracy: 0.8803\n",
      "14/14 [==============================] - 0s 1ms/step - loss: 0.3153 - accuracy: 0.8803\n"
     ]
    },
    {
     "data": {
      "image/png": "[encoded data removed]",
      "text/plain": [
       "<Figure size 800x500 with 1 Axes>"
      ]
     },
     "metadata": {},
     "output_type": "display_data"
    },
    {
     "data": {
      "image/png": "[encoded data removed]",
      "text/plain": [
       "<Figure size 800x500 with 1 Axes>"
      ]
     },
     "metadata": {},
     "output_type": "display_data"
    },
    {
     "name": "stdout",
     "output_type": "stream",
     "text": [
      "RandomForestClassifier 0.9460093896713615\n",
      "KNeighborsClassifier 0.9061032863849765\n",
      "XGBClassifier 0.9507042253521126\n",
      "Neural Network 0.9014084339141846\n",
      "Convolutional Network 0.8802816867828369\n"
     ]
    }
   ],
   "source": [
    "import pandas as pd\n",
    "import numpy as np\n",
    "import matplotlib.pyplot as plt\n",
    "import tensorflow as tf\n",
    "from sklearn.model_selection import GridSearchCV\n",
    "from sklearn.preprocessing import PolynomialFeatures\n",
    "from sklearn.pipeline import Pipeline\n",
    "from sklearn import model_selection\n",
    "from sklearn.ensemble import RandomForestClassifier\n",
    "from sklearn.neighbors import KNeighborsClassifier\n",
    "from sklearn import  metrics\n",
    "from sklearn.model_selection import train_test_split\n",
    "from sklearn.svm import SVR\n",
    "from sklearn.preprocessing import StandardScaler\n",
    "from xgboost import XGBClassifier\n",
    "from sklearn.preprocessing import LabelEncoder\n",
    "from keras.utils import to_categorical\n",
    "from sklearn.neural_network import MLPRegressor\n",
    "from keras.models import Sequential\n",
    "from keras.layers import Dense, Dropout, BatchNormalization, Conv1D, MaxPooling1D, Activation, GlobalAveragePooling1D\n",
    "from keras import regularizers\n",
    "from keras.callbacks import ModelCheckpoint\n",
    "\n",
    "df = pd.read_csv(\"fetal_health.csv\")\n",
    "train, test = train_test_split(df, test_size=0.2)\n",
    "\n",
    "# missing data\n",
    "np.random.seed(42)\n",
    "missing_percentage = 10\n",
    "num_missing = int(len(df) * missing_percentage / 100)\n",
    "\n",
    "accuracies = {}\n",
    "\n",
    "for col in df:\n",
    "    if col != 'fetal_health':\n",
    "        indexes = np.random.randint(0, len(df.index), num_missing)\n",
    "        df.loc[indexes, col] = np.nan\n",
    "\n",
    "nan_columns = df.columns[df.isna().any()].tolist()\n",
    "mean_values = df[nan_columns].mean()\n",
    "for value, key in zip(mean_values, nan_columns):\n",
    "    df[key].fillna(value=value, inplace=True)\n",
    "\n",
    "\n",
    "X_train = train.drop(columns=['fetal_health'])\n",
    "y_train = train['fetal_health']\n",
    "\n",
    "X_test = test.drop(columns=['fetal_health'])\n",
    "y_test = test['fetal_health']\n",
    "\n",
    "kfold = model_selection.StratifiedKFold(n_splits=5)\n",
    "\n",
    "pipe = Pipeline([('preprocessing', StandardScaler()), ('classifier', RandomForestClassifier())])\n",
    "grid_1 = GridSearchCV(pipe,\n",
    "                    param_grid={\n",
    "                        'classifier__max_depth': [9, 11, 13, 15],\n",
    "                        'classifier__n_estimators': [20, 22, 25, 27, 30],\n",
    "                        'classifier__max_features': [ 7, 9, 10, 12]},\n",
    "                    cv=kfold)\n",
    "\n",
    "\n",
    "pipe = Pipeline([('preprocessing', StandardScaler()), ('classifier', KNeighborsClassifier())])\n",
    "grid_2 = GridSearchCV(pipe,\n",
    "                    param_grid = {\n",
    "                        'classifier__n_neighbors': [2, 3, 5],\n",
    "                        'classifier__weights': ['uniform', 'distance'],\n",
    "                        'classifier__algorithm': ['auto', 'ball_tree', 'kd_tree', 'brute'],\n",
    "                        'classifier__p': [1, 2],\n",
    "                        'classifier__leaf_size': [5, 10, 20, 30]\n",
    "                    },\n",
    "                    cv=kfold)\n",
    "\n",
    "pipe = Pipeline([('preprocessing', StandardScaler()), ('classifier', XGBClassifier())])\n",
    "grid_3 = GridSearchCV(pipe,\n",
    "                    param_grid={\n",
    "                        'classifier__n_estimators': [200, 300, 350],\n",
    "                        'classifier__max_depth': [3, 4, 5],\n",
    "                        'classifier__learning_rate': [0.1, 0.5, 1],\n",
    "                        'classifier__subsample': [0.9, 1.0],\n",
    "                        'classifier__colsample_bytree': [0.5, 0.8, 0.9]\n",
    "                    },\n",
    "                    cv=kfold)\n",
    "\n",
    "grid_1.fit(X_train, y_train)\n",
    "print(grid_1.best_params_)\n",
    "y_pred = grid_1.predict(X_test)\n",
    "accuracies['RandomForestClassifier'] = metrics.accuracy_score(y_test, np.array([int(x) for x in y_pred]))\n",
    "\n",
    "grid_2.fit(X_train, y_train)\n",
    "print(grid_2.best_params_)\n",
    "y_pred = grid_2.predict(X_test)\n",
    "accuracies['KNeighborsClassifier'] = metrics.accuracy_score(y_test, np.array([int(x) for x in y_pred]))\n",
    "\n",
    "le = LabelEncoder()\n",
    "y_train_XGB = le.fit_transform(y_train)\n",
    "grid_3.fit(X_train, y_train_XGB)\n",
    "print(grid_3.best_params_)\n",
    "y_pred = le.inverse_transform(grid_3.predict(X_test))\n",
    "accuracies['XGBClassifier'] = metrics.accuracy_score(y_test, np.array([int(x) for x in y_pred]))\n",
    "\n",
    "y_train = to_categorical(y_train)\n",
    "y_test = to_categorical(y_test)\n",
    "\n",
    "model = Sequential()\n",
    "model.add(Dense(150,activation=\"relu\", input_shape=(X_train.shape[1],)))\n",
    "model.add(BatchNormalization())\n",
    "model.add(Dropout(0.1))\n",
    "model.add(Dense(100,activation=\"relu\"))\n",
    "model.add(BatchNormalization())\n",
    "model.add(Dropout(0.1))\n",
    "model.add(Dense(30,activation=\"relu\"))\n",
    "model.add(BatchNormalization())\n",
    "model.add(Dropout(0.1))\n",
    "model.add(Dense(4,activation=\"softmax\"))\n",
    "model.summary()\n",
    "\n",
    "model.compile(loss=\"categorical_crossentropy\", optimizer=\"Adam\", metrics=[\"accuracy\"])\n",
    "\n",
    "save_best_model = ModelCheckpoint(\"neural_best.h5py\", save_best_only=True)\n",
    "\n",
    "history1 = model.fit(X_train, y_train, validation_data=(X_test, y_test), batch_size=32, epochs=40, callbacks=[save_best_model])\n",
    "accuracies['Neural Network'] = model.evaluate(X_test,y_test)[1]\n",
    "\n",
    "model = Sequential()\n",
    "model.add(Conv1D(filters=64, kernel_size=3, activation='relu', input_shape=(21, 1)))\n",
    "model.add(Conv1D(filters=96, kernel_size=3, activation='relu'))\n",
    "\n",
    "model.add(MaxPooling1D(pool_size=2))\n",
    "model.add(Dropout(0.3))\n",
    "\n",
    "model.add(Conv1D(filters=128, kernel_size=3, activation='relu'))\n",
    "model.add(Conv1D(filters=128, kernel_size=3, activation='relu'))\n",
    "\n",
    "model.add(GlobalAveragePooling1D())\n",
    "model.add(Dropout(0.3))\n",
    "\n",
    "model.add(Dense(256, activation='relu'))\n",
    "model.add(Dropout(0.5))\n",
    "\n",
    "model.add(Dense(4, activation='sigmoid')) # softmax daje gorszy wynik\n",
    "model.summary()\n",
    "\n",
    "model.compile(loss=\"categorical_crossentropy\", optimizer=\"nadam\", metrics=[\"accuracy\"])\n",
    "\n",
    "save_best_model = ModelCheckpoint(\"convolutional_best.h5py\", save_best_only=True)\n",
    "\n",
    "history2 = model.fit(X_train, y_train, validation_data=(X_test, y_test), batch_size=32, epochs=40, callbacks=[save_best_model])\n",
    "accuracies['Convolutional Network'] = model.evaluate(X_test, y_test)[1]\n",
    "\n",
    "pd.DataFrame(history1.history).plot(figsize=(8, 5))\n",
    "plt.grid(True)\n",
    "plt.gca().set_ylim(0, 1)\n",
    "plt.show()\n",
    "\n",
    "pd.DataFrame(history2.history).plot(figsize=(8, 5))\n",
    "plt.grid(True)\n",
    "plt.gca().set_ylim(0, 1)\n",
    "plt.show()\n",
    "\n",
    "\n",
    "for classifier, accuracy in accuracies.items():\n",
    "    print(classifier, accuracy)\n",
    "\n"
   ]
  },
  {
   "cell_type": "code",
   "execution_count": null,
   "metadata": {},
   "outputs": [],
   "source": []
  }
 ],
 "metadata": {
  "kernelspec": {
   "display_name": "base",
   "language": "python",
   "name": "python3"
  },
  "language_info": {
   "codemirror_mode": {
    "name": "ipython",
    "version": 3
   },
   "file_extension": ".py",
   "mimetype": "text/x-python",
   "name": "python",
   "nbconvert_exporter": "python",
   "pygments_lexer": "ipython3",
   "version": "3.9.16"
  },
  "orig_nbformat": 4
 },
 "nbformat": 4,
 "nbformat_minor": 2
}
